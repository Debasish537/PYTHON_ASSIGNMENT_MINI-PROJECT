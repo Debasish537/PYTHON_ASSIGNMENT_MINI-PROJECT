{
  "cells": [
    {
      "cell_type": "markdown",
      "metadata": {
        "id": "view-in-github",
        "colab_type": "text"
      },
      "source": [
        "<a href=\"https://colab.research.google.com/github/Debasish537/PYTHON_ASSIGNMENT_MINI-PROJECT/blob/main/chapter_appendix-tools-for-deep-learning/jupyter.ipynb\" target=\"_parent\"><img src=\"https://colab.research.google.com/assets/colab-badge.svg\" alt=\"Open In Colab\"/></a>"
      ]
    },
    {
      "cell_type": "code",
      "source": [
        "\n",
        "class BankAccount:\n",
        "    def __init__(self, account_holder, balance=0):\n",
        "        self.account_holder = account_holder\n",
        "        self.balance = balance\n",
        "\n",
        "    def deposit(self, amount):\n",
        "        if amount > 0:\n",
        "            self.balance += amount\n",
        "            print(f\"Deposited ${amount} into {self.account_holder}'s account.\")\n",
        "        else:\n",
        "            print(\"Sorry! You entered the wrong amount to deposit,Try again!\")\n",
        "\n",
        "    def withdraw(self, amount):\n",
        "        if amount > self.balance:\n",
        "            print(\"Insufficient balance!\")\n",
        "        elif amount > 0:\n",
        "            self.balance -= amount\n",
        "            print(f\"Withdrew ${amount} from {self.account_holder}'s account.\")\n",
        "        else:\n",
        "            print(\"Withdrawal amount must be positive.\")\n",
        "\n",
        "    def display_balance(self):\n",
        "        print(f\"{self.account_holder}'s current balance: ${self.balance}\")\n",
        "\n",
        "acc = BankAccount(\"John Doe\", 5000)\n",
        "\n",
        "acc.deposit(2000)\n",
        "acc.withdraw(1000)\n",
        "acc.display_balance()\n"
      ],
      "metadata": {
        "id": "STkEn00fynAZ",
        "outputId": "a0518d95-6011-465f-fe6b-a2d737a11005",
        "colab": {
          "base_uri": "https://localhost:8080/"
        }
      },
      "id": "STkEn00fynAZ",
      "execution_count": 3,
      "outputs": [
        {
          "output_type": "stream",
          "name": "stdout",
          "text": [
            "Deposited $2000 into John Doe's account.\n",
            "Withdrew $1000 from John Doe's account.\n",
            "John Doe's current balance: $6000\n"
          ]
        }
      ]
    },
    {
      "cell_type": "code",
      "source": [
        "print(\"The 1st matrix\")\n",
        "A = [[1, 2], [3, 4]]\n",
        "print(\"The 2nd matrix\")\n",
        "B = [[5, 6], [7, 8]]\n",
        "\n",
        "matrix_mltiplication = [[0, 0], [0, 0]]\n",
        "\n",
        "for i in range(2):\n",
        "    for j in range(2):\n",
        "        for k in range(2):\n",
        "            matrix_mltiplication[i][j] += A[i][k] * B[k][j]\n",
        "\n",
        "print(\"Resulting Matrix:\")\n",
        "print(matrix_mltiplication)\n"
      ],
      "metadata": {
        "id": "8rhh8poI4ajd",
        "outputId": "5503d971-8d41-4844-81c2-bf6a7717b73d",
        "colab": {
          "base_uri": "https://localhost:8080/"
        }
      },
      "id": "8rhh8poI4ajd",
      "execution_count": 9,
      "outputs": [
        {
          "output_type": "stream",
          "name": "stdout",
          "text": [
            "The 1st matrix\n",
            "The 2nd matrix\n",
            "Resulting Matrix:\n",
            "[[19, 22], [43, 50]]\n"
          ]
        }
      ]
    },
    {
      "cell_type": "code",
      "source": [
        "def fibonacci(n):\n",
        "    if n <= 1:\n",
        "      return n\n",
        "    else:\n",
        "      return fibonacci(n - 1) + fibonacci(n - 2)\n",
        "\n",
        "n = int(input(\"Enter the number of terms: \"))\n",
        "print(\"Fibonacci Series:\")\n",
        "for i in range(n):\n",
        "    print(fibonacci(i), end=\" \")"
      ],
      "metadata": {
        "id": "MUUw_B5w4z4x",
        "outputId": "b4f3dbdc-9bca-4e6b-a970-cd56f056a6b6",
        "colab": {
          "base_uri": "https://localhost:8080/"
        }
      },
      "id": "MUUw_B5w4z4x",
      "execution_count": 10,
      "outputs": [
        {
          "output_type": "stream",
          "name": "stdout",
          "text": [
            "Enter the number of terms: 10\n",
            "Fibonacci Series:\n",
            "0 1 1 2 3 5 8 13 21 34 "
          ]
        }
      ]
    },
    {
      "cell_type": "code",
      "source": [
        "import string\n",
        "paragraph = input(\"Enter a paragraph:\\n\").lower()\n",
        "\n",
        "remove = \"\"\n",
        "for char in paragraph:\n",
        "    if char not in string.punctuation:\n",
        "        remove += char\n",
        "\n",
        "words = remove.split()\n",
        "word_count = {}\n",
        "\n",
        "for word in words:\n",
        "    if word in word_count:\n",
        "        word_count[word] += 1\n",
        "    else:\n",
        "        word_count[word] = 1\n",
        "\n",
        "want = {\"hello\", \"world\", \"this\", \"is\", \"a\"}\n",
        "result = {word: count for word, count in word_count.items() if word in want}\n",
        "\n",
        "print(\"\\nWord Frequency:\")\n",
        "print(result)"
      ],
      "metadata": {
        "id": "vrZWBEpd5I5Q",
        "outputId": "cfe68396-23e0-4d55-e340-97d2366a1763",
        "colab": {
          "base_uri": "https://localhost:8080/"
        }
      },
      "id": "vrZWBEpd5I5Q",
      "execution_count": 11,
      "outputs": [
        {
          "output_type": "stream",
          "name": "stdout",
          "text": [
            "Enter a paragraph:\n",
            "Hello world! This is a test. Hello again, world!\n",
            "\n",
            "Word Frequency:\n",
            "{'hello': 2, 'world': 2, 'this': 1, 'is': 1, 'a': 1}\n"
          ]
        }
      ]
    },
    {
      "cell_type": "code",
      "source": [
        "operations = {\n",
        "    \"+\": lambda x, y: x + y,\n",
        "    \"-\": lambda x, y: x - y,\n",
        "    \"*\": lambda x, y: x * y,\n",
        "    \"/\": lambda x, y: x / y\n",
        "    if y != 0\n",
        "    else \"Cannot divide by zero\"\n",
        "}\n",
        "\n",
        "x,op,y = input(\"Enter calculation (like: 5 + 3): \").split()\n",
        "x, y = float(x), float(y)\n",
        "\n",
        "result = operations[op](x, y)\n",
        "print(\"Result:\", result)\n"
      ],
      "metadata": {
        "id": "dIg5flR56xS7",
        "outputId": "1ddf3426-c035-4479-c1b4-21207961aaee",
        "colab": {
          "base_uri": "https://localhost:8080/"
        }
      },
      "id": "dIg5flR56xS7",
      "execution_count": 20,
      "outputs": [
        {
          "output_type": "stream",
          "name": "stdout",
          "text": [
            "Enter calculation (like: 5 + 3): 5 + 3\n",
            "Result: 8.0\n"
          ]
        }
      ]
    },
    {
      "cell_type": "code",
      "source": [
        "import json\n",
        "\n",
        "class Student:\n",
        "    def __init__(self, roll_no, name, marks):\n",
        "        self.roll_no = roll_no\n",
        "        self.name = name\n",
        "        self.marks = marks\n",
        "\n",
        "    def display_student(self):\n",
        "        return f\"Roll No: {self.roll_no}, Name: {self.name}, Marks: {self.marks}\"\n",
        "\n",
        "    def update_marks(self, new_marks):\n",
        "        self.marks = new_marks\n",
        "\n",
        "# Global list to store student objects\n",
        "students = []\n",
        "\n",
        "# Load student data from file\n",
        "def load_data():\n",
        "    try:\n",
        "        with open(\"students.json\", \"r\") as file:\n",
        "            content = file.read()\n",
        "            if content.strip():  # Check if file is not empty\n",
        "                data = json.loads(content)\n",
        "                for record in data:\n",
        "                    students.append(Student(record[\"roll_no\"], record[\"name\"], record[\"marks\"]))\n",
        "    except FileNotFoundError:\n",
        "        pass\n",
        "\n",
        "# Save student data to file\n",
        "def save_data():\n",
        "    with open(\"students.json\", \"w\") as file:\n",
        "        data = [{\"roll_no\": student.roll_no, \"name\": student.name, \"marks\": student.marks} for student in students]\n",
        "        json.dump(data, file)\n",
        "\n",
        "# Add student\n",
        "def add_student():\n",
        "    roll_no = input(\"Enter Roll No: \")\n",
        "    # Check for duplicate roll number\n",
        "    if any(student.roll_no == roll_no for student in students):\n",
        "        print(\"Roll No already exists!\")\n",
        "        return\n",
        "    name = input(\"Enter Name: \")\n",
        "    try:\n",
        "        marks = int(input(\"Enter Marks: \"))\n",
        "    except ValueError:\n",
        "        print(\"Invalid input! Marks must be a number.\")\n",
        "        return\n",
        "    students.append(Student(roll_no, name, marks))\n",
        "    print(\"Student Added Successfully!\")\n",
        "\n",
        "# Display all students\n",
        "def display_all_students():\n",
        "    if not students:\n",
        "        print(\"No students found!\")\n",
        "        return\n",
        "    for student in students:\n",
        "        print(student.display_student())\n",
        "\n",
        "# Search student\n",
        "def search_student():\n",
        "    roll_no = input(\"Enter Roll No to Search: \")\n",
        "    for student in students:\n",
        "        if student.roll_no == roll_no:\n",
        "            print(student.display_student())\n",
        "            return\n",
        "    print(\"Student Not Found!\")\n",
        "\n",
        "# Update marks\n",
        "def update_marks():\n",
        "    roll_no = input(\"Enter Roll No to Update Marks: \")\n",
        "    for student in students:\n",
        "        if student.roll_no == roll_no:\n",
        "            try:\n",
        "                new_marks = int(input(\"Enter New Marks: \"))\n",
        "                student.update_marks(new_marks)\n",
        "                print(\"Marks Updated Successfully!\")\n",
        "                return\n",
        "            except ValueError:\n",
        "                print(\"Invalid input! Marks must be a number.\")\n",
        "                return\n",
        "    print(\"Student Not Found!\")\n",
        "\n",
        "# Delete student\n",
        "def delete_student():\n",
        "    roll_no = input(\"Enter Roll No to Delete: \")\n",
        "    for i, student in enumerate(students):\n",
        "        if student.roll_no == roll_no:\n",
        "            del students[i]\n",
        "            print(\"Student Deleted Successfully!\")\n",
        "            return\n",
        "    print(\"Student Not Found!\")\n",
        "\n",
        "# Menu-driven system\n",
        "def menu():\n",
        "    running = True  # Control variable for the loop\n",
        "    actions = {\n",
        "        \"1\": add_student,\n",
        "        \"2\": display_all_students,\n",
        "        \"3\": search_student,\n",
        "        \"4\": update_marks,\n",
        "        \"5\": delete_student,\n",
        "    }\n",
        "\n",
        "    while running:\n",
        "        print(\"\\nWelcome to Student Management System\")\n",
        "        print(\"1. Add Student\")\n",
        "        print(\"2. Display All Students\")\n",
        "        print(\"3. Search Student\")\n",
        "        print(\"4. Update Marks\")\n",
        "        print(\"5. Delete Student\")\n",
        "        print(\"6. Exit\")\n",
        "\n",
        "        choice = input(\"Enter choice: \")\n",
        "        if choice == \"6\":\n",
        "            save_data()\n",
        "            print(\"Exiting... Data Saved. Goodbye!\")\n",
        "            running = False  # Stop the loop\n",
        "        elif choice in actions:\n",
        "            actions[choice]()  # Call the corresponding function\n",
        "        else:\n",
        "            print(\"Invalid Choice! Please try again.\")\n",
        "\n",
        "# Main Execution\n",
        "if __name__ == \"__main__\":\n",
        "    load_data()\n",
        "    menu()\n"
      ],
      "metadata": {
        "id": "rk09rYXPGTno",
        "outputId": "76800030-8f96-481a-912a-aa58810a001d",
        "colab": {
          "base_uri": "https://localhost:8080/"
        }
      },
      "id": "rk09rYXPGTno",
      "execution_count": 1,
      "outputs": [
        {
          "output_type": "stream",
          "name": "stdout",
          "text": [
            "\n",
            "Welcome to Student Management System\n",
            "1. Add Student\n",
            "2. Display All Students\n",
            "3. Search Student\n",
            "4. Update Marks\n",
            "5. Delete Student\n",
            "6. Exit\n",
            "Enter choice: 1\n",
            "Enter Roll No: 201\n",
            "Roll No already exists!\n",
            "\n",
            "Welcome to Student Management System\n",
            "1. Add Student\n",
            "2. Display All Students\n",
            "3. Search Student\n",
            "4. Update Marks\n",
            "5. Delete Student\n",
            "6. Exit\n",
            "Enter choice: 5\n",
            "Enter Roll No to Delete: 201\n",
            "Student Deleted Successfully!\n",
            "\n",
            "Welcome to Student Management System\n",
            "1. Add Student\n",
            "2. Display All Students\n",
            "3. Search Student\n",
            "4. Update Marks\n",
            "5. Delete Student\n",
            "6. Exit\n",
            "Enter choice: 1\n",
            "Enter Roll No: 200\n",
            "Enter Name: DEba\n",
            "Enter Marks: 77\n",
            "Student Added Successfully!\n",
            "\n",
            "Welcome to Student Management System\n",
            "1. Add Student\n",
            "2. Display All Students\n",
            "3. Search Student\n",
            "4. Update Marks\n",
            "5. Delete Student\n",
            "6. Exit\n",
            "Enter choice: 6\n",
            "Exiting... Data Saved. Goodbye!\n"
          ]
        }
      ]
    },
    {
      "cell_type": "code",
      "source": [],
      "metadata": {
        "id": "_IYTZxA8HUEn"
      },
      "id": "_IYTZxA8HUEn",
      "execution_count": null,
      "outputs": []
    }
  ],
  "metadata": {
    "kernelspec": {
      "display_name": "Python 3",
      "name": "python3"
    },
    "language_info": {
      "name": "python"
    },
    "required_libs": [],
    "colab": {
      "provenance": [],
      "include_colab_link": true
    }
  },
  "nbformat": 4,
  "nbformat_minor": 5
}