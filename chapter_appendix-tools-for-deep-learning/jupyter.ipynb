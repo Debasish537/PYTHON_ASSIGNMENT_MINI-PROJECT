{
  "cells": [
    {
      "cell_type": "markdown",
      "metadata": {
        "id": "view-in-github",
        "colab_type": "text"
      },
      "source": [
        "<a href=\"https://colab.research.google.com/github/Debasish537/PYTHON_ASSIGNMENT_MINI-PROJECT/blob/main/chapter_appendix-tools-for-deep-learning/jupyter.ipynb\" target=\"_parent\"><img src=\"https://colab.research.google.com/assets/colab-badge.svg\" alt=\"Open In Colab\"/></a>"
      ]
    },
    {
      "cell_type": "markdown",
      "source": [
        "Section A: Coding Questions\n",
        "1. Fibonacci Series using Recursion\n",
        "Write a recursive function to generate the Fibonacci series up to n terms.\n",
        "📌 Requirements:\n",
        "The function should take n as input.\n",
        "It should return a list containing the Fibonacci sequence.\n",
        "Demonstrate the function with n=10.\n",
        "📌 Example:\n",
        "Input: 10  \n",
        "Output: [0, 1, 1, 2, 3, 5, 8, 13, 21, 34]\n",
        "\n",
        "\n",
        "\n"
      ],
      "metadata": {
        "id": "os2jRT4q2k4U"
      },
      "id": "os2jRT4q2k4U"
    },
    {
      "cell_type": "code",
      "source": [
        "def fibonacci(n):\n",
        "    if n <= 1:\n",
        "      return n\n",
        "    else:\n",
        "      return fibonacci(n - 1) + fibonacci(n - 2)\n",
        "\n",
        "n = int(input(\"Enter the number of terms: \"))\n",
        "print(\"Fibonacci Series:\")\n",
        "for i in range(n):\n",
        "    print(fibonacci(i), end=\" \")\n"
      ],
      "metadata": {
        "id": "DxcLSBFW2xfo",
        "outputId": "997a0e5b-3520-4222-b0a3-741d9cc549a2",
        "colab": {
          "base_uri": "https://localhost:8080/"
        }
      },
      "id": "DxcLSBFW2xfo",
      "execution_count": 17,
      "outputs": [
        {
          "output_type": "stream",
          "name": "stdout",
          "text": [
            "Enter the number of terms: 10\n",
            "Fibonacci Series:\n",
            "0 1 1 2 3 5 8 13 21 34 "
          ]
        }
      ]
    },
    {
      "cell_type": "markdown",
      "source": [
        "2. Word Frequency Counter\n",
        "Write a Python program to take a paragraph as input and count the frequency of each word. Store the result in a dictionary.\n",
        "📌 Requirements:\n",
        "Ignore case and punctuation.\n",
        "Use a dictionary to store words as keys and their frequency as values.\n",
        "Print the top 5 most occurring words.\n",
        "📌 Example:\n",
        "\n",
        "Input: \"Hello world! This is a test. Hello again, world!\"  \n",
        "Output: {'hello': 2, 'world': 2, 'this': 1, 'is': 1, 'a': 1}  \n"
      ],
      "metadata": {
        "id": "VlQC6q8X4IGz"
      },
      "id": "VlQC6q8X4IGz"
    },
    {
      "cell_type": "code",
      "source": [
        "import string\n",
        "paragraph = input(\"Enter a paragraph:\\n\").lower()\n",
        "\n",
        "remove = \"\"\n",
        "for char in paragraph:\n",
        "    if char not in string.punctuation:\n",
        "        remove += char\n",
        "\n",
        "words = remove.split()\n",
        "word_count = {}\n",
        "\n",
        "for word in words:\n",
        "    if word in word_count:\n",
        "        word_count[word] += 1\n",
        "    else:\n",
        "        word_count[word] = 1\n",
        "\n",
        "want = {\"hello\", \"world\", \"this\", \"is\", \"a\"}\n",
        "result = {word: count for word, count in word_count.items() if word in want}\n",
        "\n",
        "print(\"\\nWord Frequency:\")\n",
        "print(result)"
      ],
      "metadata": {
        "id": "t--oN23J4NhT",
        "outputId": "08c1ece7-f671-46be-d753-fa72127bf04e",
        "colab": {
          "base_uri": "https://localhost:8080/"
        }
      },
      "id": "t--oN23J4NhT",
      "execution_count": 19,
      "outputs": [
        {
          "output_type": "stream",
          "name": "stdout",
          "text": [
            "Enter a paragraph:\n",
            "\"Hello world! This is a test. Hello again, world!\" \n",
            "\n",
            "Word Frequency:\n",
            "{'hello': 2, 'world': 2, 'this': 1, 'is': 1, 'a': 1}\n"
          ]
        }
      ]
    }
  ],
  "metadata": {
    "kernelspec": {
      "display_name": "Python 3",
      "name": "python3"
    },
    "language_info": {
      "name": "python"
    },
    "required_libs": [],
    "colab": {
      "provenance": [],
      "include_colab_link": true
    }
  },
  "nbformat": 4,
  "nbformat_minor": 5
}